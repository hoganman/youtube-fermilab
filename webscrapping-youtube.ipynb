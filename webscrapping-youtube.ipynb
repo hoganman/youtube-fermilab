{
 "cells": [
  {
   "cell_type": "markdown",
   "source": [
    "Following the tutorial from https://scrapingking.medium.com/scrape-youtube-comments-using-python-and-selenium-43a7b39d80c3\n"
   ],
   "metadata": {
    "collapsed": false
   }
  },
  {
   "cell_type": "code",
   "execution_count": 1,
   "outputs": [],
   "source": [
    "import os\n",
    "from pathlib import Path\n",
    "import sys\n",
    "import time\n",
    "from typing import Optional, Literal, Final, List\n",
    "\n",
    "from bs4 import BeautifulSoup\n",
    "from selenium import webdriver\n",
    "from selenium.webdriver.remote.webdriver import WebDriver\n",
    "from selenium.webdriver.remote.webelement import WebElement\n",
    "from selenium.webdriver.common.by import By"
   ],
   "metadata": {
    "collapsed": false,
    "ExecuteTime": {
     "start_time": "2023-04-13T17:13:31.578934Z",
     "end_time": "2023-04-13T17:13:31.746937Z"
    }
   }
  },
  {
   "cell_type": "code",
   "execution_count": 2,
   "outputs": [],
   "source": [
    "vid_url: Final[str] = u\"https://www.youtube.com/watch?v=ilwMM-CEO6w\""
   ],
   "metadata": {
    "collapsed": false,
    "ExecuteTime": {
     "start_time": "2023-04-13T17:13:31.748935Z",
     "end_time": "2023-04-13T17:13:31.761935Z"
    }
   }
  },
  {
   "cell_type": "code",
   "execution_count": 3,
   "outputs": [
    {
     "name": "stderr",
     "output_type": "stream",
     "text": [
      "C:\\Users\\Matthew\\AppData\\Local\\Temp\\ipykernel_14636\\4235148564.py:33: DeprecationWarning: executable_path has been deprecated, please pass in a Service object\n",
      "  driver = webdriver.Chrome(chrome_driver_path)\n"
     ]
    }
   ],
   "source": [
    "def get_chrome_driver(\n",
    "    driver_exe: Optional[os.PathLike] = None,\n",
    ") -> Optional[WebDriver]:\n",
    "    \"\"\"Get the Chrome driver executable for Selenium. The driver is\n",
    "    searched in the environment variable 'PATH'\n",
    "\n",
    "    Args:\n",
    "        driver_exe: Path of executable (default=\"chromedriver\")\n",
    "\n",
    "    Returns:\n",
    "        Chrome webdriver if executable found, else None\n",
    "    \"\"\"\n",
    "    driver: WebDriver\n",
    "\n",
    "    if driver_exe is None:\n",
    "        driver_exe = \"chromedriver\"\n",
    "\n",
    "    if Path(driver_exe).exists():\n",
    "        return webdriver.Chrome(driver_exe)\n",
    "\n",
    "    split_token: Literal[\";\", \":\"] = \":\"\n",
    "    if \"win\" in sys.platform:\n",
    "        split_token = \";\"\n",
    "        driver_exe += \".exe\"\n",
    "    chrome_driver_path: Optional[Path] = None\n",
    "\n",
    "    for file_path in os.environ.get(\"PATH\").split(split_token):\n",
    "        temp_file = Path(file_path) / driver_exe\n",
    "        if temp_file.exists():\n",
    "            chrome_driver_path = temp_file\n",
    "            break\n",
    "\n",
    "    if chrome_driver_path is not None and chrome_driver_path.exists():\n",
    "        driver = webdriver.Chrome(chrome_driver_path)\n",
    "        return driver\n",
    "    return None\n",
    "\n",
    "\n",
    "def get_driver(\n",
    "    driver_type: Literal[\"chrome\"] = \"chrome\",\n",
    "    driver_exe: Optional[os.PathLike] = None,\n",
    ") -> Optional[WebDriver]:\n",
    "    \"\"\"Get the specified driver for Selenium\n",
    "\n",
    "    Args:\n",
    "        driver_type: Type of driver like 'chrome'\n",
    "        driver_exe: PathLike executable\n",
    "\n",
    "    Returns:\n",
    "        Webdriver if executable found, else None\n",
    "    \"\"\"\n",
    "    if driver_type == \"chrome\":\n",
    "        return get_chrome_driver(driver_exe)\n",
    "    return None\n",
    "\n",
    "\n",
    "def get_yt_comments(\n",
    "    vid_url: str,\n",
    "    pages: int = 7,\n",
    "    min_sleep_sec: float = 2.0\n",
    ") -> List[str]:\n",
    "    \"\"\"Obtain Youtube comments as a list of unicode strings. Due to the nature of\n",
    "    Youtube at this time, comments are loaded as the user scrolls down the page,\n",
    "    so the number of page scrolls is an optional argument,\n",
    "\n",
    "    Args:\n",
    "        vid_url: URL of video on Youtube\n",
    "        pages: Number comment pages to load\n",
    "        min_sleep_sec: Wait time between comment page scrolling\n",
    "\n",
    "    Returns:\n",
    "         Comments list\n",
    "    \"\"\"\n",
    "    comments: List[str]\n",
    "\n",
    "    driver = get_driver()\n",
    "    if driver is None:\n",
    "        raise TypeError(\"Unable to get web driver!\")\n",
    "    driver.get(vid_url)\n",
    "    driver.maximize_window()\n",
    "\n",
    "    # Scroll to first comments page\n",
    "    time.sleep(2 * min_sleep_sec)\n",
    "    driver.execute_script(\"window.scrollTo(0, 1000);\")\n",
    "\n",
    "    for _ in range(pages - 1):\n",
    "      time.sleep(min_sleep_sec)\n",
    "      driver.execute_script(\"window.scrollTo(0, 10000);\")\n",
    "\n",
    "    comments_section: WebElement\n",
    "    [comments_section] = driver.find_elements(\n",
    "        by=By.XPATH,\n",
    "        value='//*[@id=\"comments\"]'\n",
    "    )\n",
    "    comments_html: Final[str] = comments_section.get_attribute(\"innerHTML\")\n",
    "\n",
    "    # parse the HTML content with BeautifulSoup\n",
    "    soup: BeautifulSoup = BeautifulSoup(markup=comments_html, features=\"html.parser\")\n",
    "    comments = [\n",
    "        comment.text\n",
    "        for comment in soup.find_all(\n",
    "            name=\"yt-formatted-string\",\n",
    "            attrs={\"class\": \"style-scope ytd-comment-renderer\"}\n",
    "        )\n",
    "    ]\n",
    "    return comments\n",
    "\n",
    "\n",
    "video_comments = get_yt_comments(vid_url)"
   ],
   "metadata": {
    "collapsed": false,
    "ExecuteTime": {
     "start_time": "2023-04-13T17:13:35.427018Z",
     "end_time": "2023-04-13T17:13:57.432181Z"
    }
   }
  },
  {
   "cell_type": "code",
   "execution_count": 4,
   "outputs": [
    {
     "data": {
      "text/plain": "['This guy is the most at ease and calming man I have ever heard and has a great sense of humor. Best physics communicator on YouTube.',\n \"I know I'm a couple years late but your commitment to nearly free, open access, high quality science education is truly commendable.\",\n 'Yay! Thank you SO MUCH for doing this - making time from home amidst the pandemic. It’s such a comfort in these crazy times. I’ve always loved your presenting style and ALL your videos, and this is like sitting down to a home cooked roast dinner!! Comforting and great for my endorphin levels. Well until we became vegetarians at least, but my Wife does a mean veggie lasagna . You are the best!!! Fermilab ROCKS!!!',\n 'Even in these dark times, educators going to educate.',\n \"These videos are way better than most other science videos I come across. PBS Spacetime is also great but they come at you a mile a minute. Don's pacing is perfect for me. I can't wait for the next video!\",\n 'I\\'ve been watching your \"in front of the chalkboard\" videos for years, reading popular physics books (eg, Brian Cox, Sean Carroll) and watching the Royal Institution lectures. Five minutes into this video, when you posted the usual pink, cyan, and blue squares, something clicked! I can now remember the difference(s) between a quark and a lepton, and won\\'t misidentify a force as one of the first two. Hooray! I\\'m so looking forward to more of this series. Thanks for posting these!',\n 'Keep making your videos please! Your POV is very enlightening especially during this trying time.',\n \"As a friendly reminder - these episodes don't necessarily have to be short. :) Also, the QA section idea is a lovely gesture toward your audience.\",\n '0:41 \"[...] and by the end, it\\'ll be essentially a masterclass in understanding particle physics and cosmology, and you\\'ll know everything I do.\" I hope there are many, many more episodes to come, because I think you\\'re gonna need more like 3,000 episodes to achieve that, than your current 33. ',\n \"It's surprisingly been a highlight of my day - that's great to see a new video from you, Dr. Don in this troubling times. Oddly reassuring :)\",\n 'I wish these were daily episodes, all of your talks are outstanding.',\n 'Greetings from Panama 🇵🇦. I’ve been following your channel for years now and have followed several other similar channels and this channel is the best. The way you explain physics makes it easier for most people to understand how “things” work. I’ve always say that you can be an expert and one of the best scientist in a specific area but one thing is to “know” things and how to applied them and another is to teach them. You now how to teach, not everybody knows how to do that. If you know how to teach you can learn and explain anything even though is not the field of your expertise. Keep it going! ',\n 'We had Newton, Maxwell, Einstein, Faraday, Tesla and all the great masters of science and many of those masters came together at the Solvay conference.\\r\\nNowadays we have other masters who seek to find the answers made by the great masters of the past and you Mr. Don Lincon is one of those masters. Thank you very much for explaining the Quantum world to us.',\n 'Hi Dr Don Lincoln. Just like to say a big thanks for all the videos you do. I don’t fully understand complex physics and the maths that goes with it but I still find them so interesting and still learn something from each one of them. So thanks!',\n 'Thank you for this series! This is exactly what I am looking for when I wanted to learn about subatomic physics.',\n \"Hey Lincoln, nice video (as always). I'm a PhD student in physics and although my field is optics, particle physics has always kept my interesting. So, I would like to give you a suggestion that I very much like to see in this channel: would it be possible for you to make a video more formal about HOW quarks, gluons, W and Z bosons, etc, were detected and more importantly, describe how the data implies the existence of those particles. Man, you would just made my life whole by making this kind os videos. Thank you so much and be safe out there!!! Bye!!\",\n \"This series is a brilliant idea. I always wanted to really understand the famous property that all particles have: “the spin”. As far as I'm concerned even great scientists have difficulties to get their heads around it. I would love to have it explained by you.\",\n 'Wow your approach of explaining science is so elucidating and understandable! Looking forward for the series!',\n 'Now I finally have some quality videos to watch at home thanks doc!!',\n \"Doesn't matter where you make your videos, they're always fascinating. Looking forward to the series.\",\n 'Really looking forward to this series.  It feels like we’ve warped to another universe at this point.',\n 'Cool, Fermilab and Brian Greenes Equation of the day.  Helping us laymen get a grasp on the way things work. Thank you both.',\n 'Congrats for the video Don, simple and clear. A suggestion of topics for next videos: Lepton universality doubts (LHC experience), neutrino mass questions, standard model and supersimmetry. Looking forward for future episodes!',\n 'Oooh yes, this is going to be an interesting series!  Look forward to your videos.  Your teaching style is great.  Thank you!',\n 'Can’t wait to view this series in its entirety... thank you! Be well!',\n 'I am an 80 year young retired engineer.  Anxious to understand terms I often hear, mainly from CBC show Quirk & Quarks, which I listen every week.  Looking forward to future episodes.',\n \"I hope you stay safe Don!\\nThis virus will end and we can go back to how things were.\\nLove the videos and I'm glad you're still educating! :D\",\n 'I am so glad that I stumbled across these delightful mini-lectures. I will re-listen to these many times I am sure.  Highly recommended.',\n \"Thanks for doing these lessons and in these days it's great to have someone talk about something else other than the Coronavirus so I can escape it for a while...and do it with such a calming voice ️\",\n \"Don, I like this review of particles you're doing. I've been away from physics for way too long, and now that I'm retired, I'm spending part of my time catching up. I'm looking forward to this series.\",\n 'Hi, Dr. Lincoln! I do have a question:\\nWhat is the connection of the concept of time as described by the \"arrow of time\" linked to increasing entropy in the universe and the (seemingly alternative and disconnect) concept of time that physicists refer to when talking about space-time? How does \"warping space-time\" affect the \"arrow of time\"?\\n\\nI hope you see this and give some of your thoughts! I hope the question is not too vague. Thank you!',\n \"1) That's the subject what I was just looking for: The Standard Model. 2)Even in quarentine, you guys managed to keep the video editing in a high standard! Great job! - And Don still the best teacher, as usual!\",\n \"Yay!!!!!\\nI love this!!!!\\nI'm really looking forward to this series Don, thank you.\\n\\nStay safe pal and keep up the amazing work \",\n 'So as not to miss any, are you going to number your series of special video “Subatomic Stories\" ? At some time in the future, finding and negotiating the series will be so much easier. \\n\\nNow, thank you, Dr. Don Lincoln, for an easy to follow set of videos to date, and I am eagerly looking forward to learning or refreshing my knowledge in the realm of physics from more of your programs!',\n 'Just found this channel and love this first part of your new series. Looking forward to one day knowing everything you know.',\n 'Looks to be an better concept than the other you have done. I really like it! Thanks for enlightening the world. ️ ',\n \"Don: I won't be able to make the usual videos anymore.\\nMe: Aww man this is a bummer.\\nDon: Instead I'll be making videos that are even better.\\nMe: surprised pikachu face\",\n 'I am so excited for this series!   I watch all of your videos and other channels, I am interested in learning in a reasonable depth the standard model and the nature of these \"Lego pieces\" and how the macro connects to the micro. I would love if you take your time to explain every subject with depth so we can truly understand and slowly build knowledge.  I not looking for fast and superficial, but a class where we build the staircase one step at a time.',\n 'Thanks for continuing to stimulate us during these testing times! Q: Is the 2nd Law of Thermodynamics derivable from the Standard Model or Relativity? I think you suggested that all phenomena could, in principle, be related to these two theories. ️',\n \"It's awesome you're doing these videos. It's also kind of ominous, mostly because of how you're expressing yourself a lil different than your other videos. Hope you're well. Best wishes.\",\n 'Wow Dr. Lincoln! You just made the quarantine way more interesting! Thanks a lot! If you can, please make some videos explaining the quantum interpretations \"step by step\" in a concrete example! No other professor did it in layman\\'s terms! Like, the delayed choice quantum entanglement, what happens after the photons are fired, according to many worlds, qbism, etc...\\n\\nThanks! =)',\n 'Glad to see you are safe and well Dr. L! All the best to your family and colleagues :-)',\n 'Probably too late, but here’s a question: Given that most mass in a proton derives from the mass equivalent of binding energy among quarks in that proton, is the theoretical graviton thought to interact with the binding energy in some way to warp spacetime?',\n 'I love this channel. Thank you Dr.Don Lincoln. It will be a great series.\\nQ: What do you think about the fate of string theory? Will it be proven in the future or will it lose its claim?',\n 'Great work sir.  Eagerly waiting for the series.  Always wanted it.  You made it true.  Thank you so much sir once again',\n 'I like this new casual sit down format over the old format.  \\nIMO you should keep it even after things go back to \"normal\".   Like if you agree \\nEither way, thank you Dr. Lincoln for spreading knowledge and infecting us with the love of Science ',\n \"Don, please don't stop.  These videos are amazing. :)\",\n 'Your videos are informative and enlightening. Great job sir and I look forward to your next episode',\n 'Will you also be explaining the anti particles of the standard model? Thanks!',\n 'I love this series! Please keep the videos coming.',\n 'Looking forward to this series! Thank you in advance! ',\n 'Really looking forward to this series!\\nI seriously doubt though that at the end I will know EVERYTHING that Dr Don knows!!',\n 'Don, I am really looking forward to this series of videos. Thank you!',\n 'These are always so nice to watch. I am learning so much about topics ive always loved.',\n 'Interesting collection of books in the background.  The title \"Alien Universe\" in the shelf on the top right looks intriguing.  On the bottom right you have some physics books, though they seem to be geared to the general public rather than being text books.  You also have history books in the shelf on the left side of the screen, directly behind you.',\n 'All these amazing physicists making free videos, Sean Carroll, Brian Greene, Mr. Don here........Corona virus might be horrible, but it is creating some amazing free content.............Thank you Mr. Don for doing this with your time, it means a lot to know you are giving this information away for free (as it should be) and teaching these things in such a clear and understandable way.',\n 'I cannot wait to watch the next episodes, thank you for making these videos',\n \"I'm so happy to see a new video and new series. Thank you for making these!\",\n \"Dr Lincoln, I enjoy your videos a lot.  You obviously put a lot of time in them, and you make this information accessible to interested people like me.  I have several questions about black holes; I hope these are not too much off topic for this video.  I'll put the first question here and then ask the second one in a new comment.  First question: Let's say we have three things: A super massive black hole, an observer at a safe distance, and an object falling in.  I've heard on many videos that the object falling in (assuming it survives spaghettification, which is why I chose a supermassive one) would experience time in the normal way, while the observer would never actually see the object cross the event horizon.  From the observer's perspective the object would simply move closer and closer to the black hole, always slowing down (time dilation).  However, from the LIGO observatory we've recorded many black hole mergers.  If black hole 2 (the object falling in) never crosses the event horizon of black hole #1, then per the observer (LIGO),  how do we detect the merger?\",\n 'Thank you so much for doing these videos .. I learned a lot from you ! Love discovering science',\n \"I have a request while you're making these videos. If possible, when discussing electromagnetism and the photon, one of the things that I have a hard time wrapping my head around is how the transfer of photons produce an attractive force. Usually light hitting things just heats things up or imparts some momentum.\\n\\nMy second head scratcher is how the strong nuclear force gets stronger as the distance between quarks increases. This strikes me as the opposite of how the other forces behave. Why is the strong nuclear force different? I've only heard this described once and I'm not sure the description was correct.\\n\\nAs a ancillary thought that might not fit with these videos, why do we not have (any?) technology based on the weak nuclear force? We've built tech around the other 3 forces, why not this one? Is there any conceivable way to use this force.\",\n 'Thanks! Looking forward to this! Force-carrying particles are very confusing to me. For example, 2 similar or oppositely charged particles have a force carrying particle (photon) between them. HOW does this create an attractive or repulsive force between them, and WHY would this force vary inversely with the square of the distance? I hope you can cover that in a future video. Thanks again for doing this.',\n \"Thumb up, Prof ! You stay safe at home, don't catch the covid-19 ! I deliver parcels, peoples need them, you help me keep a good spirit, it is a win-win situation :-)  I assure you, Teach, I NEED your lessons :-)\",\n 'Thank you Dr. Don. We need you more than ever.',\n 'Keep safe Don! You are a Youtube gem doing important work.',\n \"Thanks Don, you're an excellent presenter.\",\n '\"A History of the Vikings\" is a good book. You should do a tour of your bookshelf.',\n 'Thanks Dr Lincoln. These videos will be a great way to out wait the pandemic.',\n '\"At the end of it, you\\'ll know what I know\"\\n\\nWow, Professor! What a promise!\\n\\nI am most excited and eagerly await your revelations, along with gazillion others.',\n 'hands down best source for learning physics, thank you Dr. Lincoln',\n 'Cannot wait for the next episode. Thankyou for doing this Dr.',\n 'Looking forward to these sessions and hope to learn something new.',\n 'Omg, I’m gonna love this so much, thank you',\n 'Awesome! Can’t wait for the upcoming episodes. Stay safe everyone...',\n 'A history of the Vikings, Cleopatra, The Picts and the Scots. Nice history reading back there. Btw   looking forward to this series. Quark was always my favorite Ferengi until he lepton the bar and got strange.',\n 'Glad to see another video from Dr. Lincoln! Question: what are your opinions about quark stars and degenerate matter? Do you think they exist? Stay safe!',\n 'Always enjoy your teaching Don!',\n 'Could you please talk about gluons and how they interact with quarks to generate such a strong force?',\n 'Question: When two electrically charged particles exchange a photon, a force acts on them.  If the particles have like charge, the force is repulsive.  If the particles have opposite charge, the force is attractive.  How do photon receiving particles “know” the charge of photon emitting particles.  I presume that is transmitted in some property of each photon, but I have never read or heard what that property is.  A similar, probably somehow the same, thing has to happen when photons transmit forces between magnets.  The receiving magnet has to somehow learn the orientation of the emitting magnet.  What property of photons carries this information and how does that interact with the magnets?',\n 'Thank you for this wonderful series!',\n 'Excellent initiative Dr Don! Stay safe! Remember: hand-washing and distancing are everything! ️',\n 'Dr. Lincoln . I must say I am a big fan of your videos. Thank you for sharing your time and  great talents in illuminating mere mortals the wonders of cosmos through physics, the mother of all empirical sciences. ',\n 'Can you explain the argument for 5 forces instead of the standard 4? Thanks so much Dr. Lincoln!',\n 'Enjoyed very much! Looking forward to upcoming episodes!',\n 'Doc, really looking forward to your video, thank you for doing this. \\nMy question is:  why is graviton not included in the standard model?',\n 'hey Don, thanks for continuing these videos from home. stay safe there. i love your videos',\n 'Thank you Dr. Lincoln.  I always enjoy your videos!  Stay safe! ',\n 'looking forward to next episode!\\n\\nquestion: why and how are quarks moving so fast within neurons and protons? what keeps them going?  do they slow down or speed up?  thxxx',\n \"So glad you're still putting out quality stuff!\\nRIP Dolan \",\n 'I like the more relaxed feeling of this video and look forward to the rest of the series.',\n 'You have the book \"A History of the Vikings\" on the bookshelf behind  you.  Credibility +5.',\n \"Good idea for this series!\\n\\n\\nI have a *question*: Don't you think it's interesting that the matter particles each come as groups of 6 whereas the force particles do not fit into 6 boxes; any thoughts?\",\n \"I really don't why people dislike these type of videos, education and effort shouldn't be disliked at all.\",\n 'Yes, this is exactly what I need right now to stay sane. Thank you!',\n 'The question remains why Fermilab  give us these free wonderfull insides  , with many years of complex studies, transformed to understand for the common woman/man , thank you Sir !',\n 'Hi, really looking forward to this series, best wishes to you and your family, stay safe!',\n \"I have to admit, didn't see the toilet paper joke coming. You got me off guard.\",\n 'Very much looking forward to this series, Dr. Lincoln!',\n 'New video series from Brian Greene, Sean Carroll, and now this. Love it.',\n 'Thanks Doc. Always great listening to you.']"
     },
     "execution_count": 4,
     "metadata": {},
     "output_type": "execute_result"
    }
   ],
   "source": [
    "video_comments"
   ],
   "metadata": {
    "collapsed": false,
    "ExecuteTime": {
     "start_time": "2023-04-13T17:14:01.994697Z",
     "end_time": "2023-04-13T17:14:02.018698Z"
    }
   }
  }
 ],
 "metadata": {
  "kernelspec": {
   "display_name": "Python 3",
   "language": "python",
   "name": "python3"
  },
  "language_info": {
   "codemirror_mode": {
    "name": "ipython",
    "version": 2
   },
   "file_extension": ".py",
   "mimetype": "text/x-python",
   "name": "python",
   "nbconvert_exporter": "python",
   "pygments_lexer": "ipython2",
   "version": "2.7.6"
  }
 },
 "nbformat": 4,
 "nbformat_minor": 0
}
